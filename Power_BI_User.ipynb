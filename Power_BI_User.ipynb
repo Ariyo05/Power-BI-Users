{
 "cells": [
  {
   "cell_type": "markdown",
   "metadata": {},
   "source": [
    "### \n",
    "1. Link to get the token: https://learn.microsoft.com/en-us/rest/api/power-bi/embed-token/generate-token#code-try-0\n",
    "2. Tenant_id is the group id of the report"
   ]
  },
  {
   "cell_type": "code",
   "execution_count": null,
   "metadata": {},
   "outputs": [],
   "source": [
    "import requests\n",
    "import pandas as pd"
   ]
  },
  {
   "cell_type": "code",
   "execution_count": null,
   "metadata": {},
   "outputs": [],
   "source": [
    "# Replace with your tenant ID, client ID, and client secret\n",
    "tenant_id = ''      # Input tenant_id\n",
    "# scope = 'https://analysis.windows.net/powerbi/api/.default'\n",
    "\n",
    "access_token = ''\n",
    "print(f'Bearer Token: {access_token}')"
   ]
  },
  {
   "cell_type": "code",
   "execution_count": null,
   "metadata": {},
   "outputs": [],
   "source": [
    "# Get the list of reports\n",
    "def get_report_list(tenant_id, access_token):\n",
    "    reports_url = f'https://api.powerbi.com/v1.0/myorg/groups/{tenant_id}/reports'\n",
    "    headers = {\n",
    "        'Authorization': f'Bearer {access_token}'\n",
    "    }\n",
    "    reports_list = requests.get(reports_url, headers=headers, verify=False)\n",
    "     # Check if the request was successful\n",
    "    if reports_list.status_code == 200:\n",
    "        return reports_list.json().get('value')\n",
    "    else:\n",
    "        print(f\"Failed to retrieve reports. Status Code: {reports_list.status_code}\")\n",
    "        print(f\"Response: {reports_list.text}\")\n",
    "        return None"
   ]
  },
  {
   "cell_type": "code",
   "execution_count": null,
   "metadata": {},
   "outputs": [],
   "source": [
    "# Get the list of the report\n",
    "reports = get_report_list(tenant_id, access_token)\n",
    "\n",
    "# Loop through each report and get the users\n",
    "report_data = []\n",
    "for report in reports:\n",
    "    report_id = report['id']\n",
    "    report_name = report['name']\n",
    "    dataset_id = report['datasetId']\n",
    "    report_data.append({'Report ID': report_id, 'Report Name': report_name, 'Dataset ID': dataset_id})  #, 'Group ID': group_id})\n",
    "    # print(f'Report ID: {report_id}, Report Name: {report_name}')\n",
    "\n",
    "\n",
    "# Convert to DataFrame for better readability (optional)\n",
    "report_df = pd.DataFrame(report_data)\n",
    "report_df.head()"
   ]
  },
  {
   "cell_type": "code",
   "execution_count": null,
   "metadata": {},
   "outputs": [],
   "source": [
    "filtered_df = report_df.loc[report_df['Dataset ID'] == 'c7898c32-e697-4256-9d6e-b222126f3335']\n",
    "filtered_df"
   ]
  },
  {
   "cell_type": "code",
   "execution_count": null,
   "metadata": {},
   "outputs": [],
   "source": [
    "# Function to get the all the dataset id\n",
    "def get_report_users(tenant_id, access_token):\n",
    "    users_url = f'https://api.powerbi.com/v1.0/myorg/groups/{tenant_id}/datasets/{dataset_id}/users'     #'https://api.powerbi.com/v1.0/myorg/admin/reports/{report_id}/users'\n",
    "    headers = {\n",
    "        'Authorization': f'Bearer {access_token}'\n",
    "    }\n",
    "    response = requests.get(users_url, headers=headers, verify=False)\n",
    "\n",
    "    if response.status_code == 200:\n",
    "        return response.json().get('value')\n",
    "    else:\n",
    "        return None"
   ]
  },
  {
   "cell_type": "code",
   "execution_count": null,
   "metadata": {},
   "outputs": [],
   "source": [
    "# passing dataset_id column into a list\n",
    "\n",
    "dataset_list = report_df['Dataset ID'].to_list()\n",
    "print(dataset_list)"
   ]
  },
  {
   "cell_type": "code",
   "execution_count": null,
   "metadata": {},
   "outputs": [],
   "source": [
    "# Loop through each dataset ID and get the users\n",
    "all_users_data = []\n",
    "for dataset_id in dataset_list:\n",
    "    users = get_report_users(tenant_id, access_token)\n",
    "    if users is not None:\n",
    "        for user in users:\n",
    "            all_users_data.append({\n",
    "                'Dataset ID': dataset_id,\n",
    "                'User': user['identifier'],\n",
    "                'Access Right': user['datasetUserAccessRight'],\n",
    "                'Principal Type': user['principalType']\n",
    "            })\n",
    "\n",
    "# Convert to DataFrame for better readability (optional)\n",
    "dataset_df = pd.DataFrame(all_users_data)\n",
    "print(dataset_df.head())"
   ]
  },
  {
   "cell_type": "code",
   "execution_count": null,
   "metadata": {},
   "outputs": [],
   "source": [
    "dataset_df.head()"
   ]
  },
  {
   "cell_type": "code",
   "execution_count": null,
   "metadata": {},
   "outputs": [],
   "source": [
    "combined_df = pd.merge(report_df, dataset_df, on='Dataset ID', how='inner')\n",
    "combined_df.head()"
   ]
  },
  {
   "cell_type": "code",
   "execution_count": null,
   "metadata": {},
   "outputs": [],
   "source": [
    "combined_df.to_csv('output.csv', index=False)"
   ]
  }
 ],
 "metadata": {
  "kernelspec": {
   "display_name": "Python 3",
   "language": "python",
   "name": "python3"
  },
  "language_info": {
   "name": "python",
   "version": "3.13.1"
  }
 },
 "nbformat": 4,
 "nbformat_minor": 2
}
