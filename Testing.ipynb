{
 "cells": [
  {
   "cell_type": "code",
   "execution_count": null,
   "metadata": {},
   "outputs": [],
   "source": [
    "# Replace with your tenant ID, client ID, and client secret\n",
    "tenant_id = ''      # Input tenant_id\n",
    "# scope = 'https://analysis.windows.net/powerbi/api/.default'\n",
    "\n",
    "access_token = ''\n",
    "print(f'Bearer Token: {access_token}')"
   ]
  }
 ],
 "metadata": {
  "kernelspec": {
   "display_name": "Python 3",
   "language": "python",
   "name": "python3"
  },
  "language_info": {
   "name": "python",
   "version": "3.13.1"
  }
 },
 "nbformat": 4,
 "nbformat_minor": 2
}
